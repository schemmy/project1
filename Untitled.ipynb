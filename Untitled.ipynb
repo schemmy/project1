{
 "cells": [
  {
   "cell_type": "code",
   "execution_count": 1,
   "metadata": {},
   "outputs": [],
   "source": [
    "# -*- coding: utf-8 -*-\n",
    "# @Author: chenxinma\n",
    "# @Date:   2018-07-17 18:09:08\n",
    "# @Last Modified by:   chenxinma\n",
    "# @Last Modified at:   2018-07-18 15:13:41\n",
    "from pyscipopt import Model, quicksum, multidict\n",
    "import random"
   ]
  },
  {
   "cell_type": "code",
   "execution_count": 3,
   "metadata": {},
   "outputs": [],
   "source": [
    "# 1-RDC, 2-FDC, 5-Sku \n",
    "I = {1:30, 2:60, 3:65, 4:10, 5:200}  # Inventory\n",
    "L = 6 # Sku capacity upper bound\n",
    "m = 2\n",
    "n = 5\n",
    "alpha = 0.1\n",
    "\n",
    "d = {(0,1):30,    (0,2):80,    (0,3):60,    (0,4):10,    (0,5):100,\n",
    "     (1,1):6,     (1,2):9,     (1,3):30,    (1,4):2,     (1,5):120,    \n",
    "     (2,1):10,    (2,2):7,     (2,3):26,    (2,4):7,     (2,5):70,    \n",
    "    }\n",
    "\n",
    "c0 = {(0,1):4,   (0,2):3,     (0,3):10,    (0,4):14,    (0,5):2,\n",
    "     (1,1):4,     (1,2):3,     (1,3):10,    (1,4):14,     (1,5):2,    \n",
    "     (2,1):4,     (2,2):3,     (2,3):10,    (2,4):14,     (2,5):2,    \n",
    "     }\n",
    "\n",
    "c1 = {(1,1):2,     (1,2):1,     (1,3):2,    (1,4):5,     (1,5):1,    \n",
    "      (2,1):3,     (2,2):2,     (2,3):3,    (2,4):7,     (2,5):2,    \n",
    "     }\n",
    "\n",
    "c2 = {(1,1):1,     (1,2):1,     (1,3):1,    (1,4):1,     (1,5):1,    \n",
    "      (2,1):1,     (2,2):1,     (2,3):1,    (2,4):1,     (2,5):1,    \n",
    "     }"
   ]
  },
  {
   "cell_type": "code",
   "execution_count": 4,
   "metadata": {},
   "outputs": [],
   "source": [
    "m = 5 # Number of FDC\n",
    "n = 1000 # Number of Sku\n",
    "L = 400 # Sku capacity upper bound\n",
    "alpha = 0.1\n",
    "random.seed(1)\n",
    "\n",
    "I, d, c0, c1, c2 = {}, {}, {}, {}, {}\n",
    "\n",
    "\n",
    "for i in range(m+1):\n",
    "    for j in range(n):\n",
    "        if i == 0:\n",
    "            d[(i,j)] = random.random() * random.randint(500, 1000)\n",
    "            c0[(i,j)] = random.random() * random.randint(20, 100)\n",
    "        d[(i,j)] = random.random() * d[(0,j)]\n",
    "        c0[(i,j)] = c0[(0,j)]*0.6\n",
    "        c1[(i,j)] = random.random() * random.randint(10, 20)\n",
    "        c2[(i,j)] = 2\n",
    "\n",
    "for j in range(n):\n",
    "    I[j] = d[(0,j)] * (random.random()+0.8)"
   ]
  },
  {
   "cell_type": "code",
   "execution_count": 5,
   "metadata": {},
   "outputs": [],
   "source": [
    "M = list(range(m+1))\n",
    "N = I.keys() \n",
    "w = {}\n",
    "x = {}\n",
    "y = {}\n",
    "\n",
    "\n",
    "model = Model('Allocation')\n",
    "# Create variables\n",
    "\n",
    "for i in M:\n",
    "    for j in N:\n",
    "        w[i,j] = model.addVar(vtype='C', \n",
    "                              lb=0.0,\n",
    "                              name='w(%s,%s)' % (i,j))\n",
    "\n",
    "for i in M[1:]:\n",
    "    for j in N:\n",
    "        x[i,j] = model.addVar(vtype='B', name='x(%s,%s)' % (i,j))\n",
    "\n",
    "for i in M:\n",
    "    for j in N:\n",
    "        y[i,j] = model.addVar(vtype='C', \n",
    "                              lb=0.0,\n",
    "                              name='y(%s,%s)' % (i,j))\n",
    "\n",
    "# Capacity constraints\n",
    "model.addCons(sum(x[i,j] for i in M[1:] for j in N) <= L, name='Capacity')\n",
    "\n",
    "# Weights constraints\n",
    "for j in N:\n",
    "    model.addCons(sum(w[i,j] for i in M) <= 1, name='Weights(%d) upper bound' % j)\n",
    "\n",
    "for i in M:\n",
    "    for j in N:\n",
    "        model.addCons(w[i,j] >= 0, name='Weight(%d, %d) geq 0' %(i,j))\n",
    "\n",
    "# Relation between x and w\n",
    "for i in M[1:]:\n",
    "    for j in N:\n",
    "        model.addCons(x[i,j] >= w[i,j], name='Consistent(%s,%s)' % (i,j))\n",
    "\n",
    "# Max \n",
    "for i in M:\n",
    "    for j in N:\n",
    "        model.addCons(y[i,j] >= d[i,j]-w[i,j]*I[j], name='Logic max(%s,%s)' % (i,j))\n",
    "\n",
    "# RDC reserve\n",
    "for j in N:\n",
    "    model.addCons(w[0,j] >= 0.2, name='RDC Reserve')\n",
    "\n",
    "model.data = w,x"
   ]
  },
  {
   "cell_type": "code",
   "execution_count": 6,
   "metadata": {},
   "outputs": [
    {
     "name": "stdout",
     "output_type": "stream",
     "text": [
      "Optimal value: 4329789.192678776\n"
     ]
    }
   ],
   "source": [
    "# Objective\n",
    "model.setObjective(\\\n",
    "    quicksum(c0[i,j]*(1-alpha)*y[i,j]  for (i,j) in w)\\\n",
    "    + quicksum(c1[i,j]*alpha*y[i,j] for (i,j) in x)\\\n",
    "    + quicksum(c2[i,j]*x[i,j] for (i,j) in x)\\\n",
    "     , 'minimize')\n",
    "\n",
    "model.optimize()\n",
    "\n",
    "print('Optimal value:', model.getObjVal())"
   ]
  },
  {
   "cell_type": "code",
   "execution_count": null,
   "metadata": {},
   "outputs": [],
   "source": [
    "# for i in M:\n",
    "#     for j in N:\n",
    "#         print ('%.2f  ' %abs(model.getVal(w[i,j])), end='')\n",
    "#     print ('')"
   ]
  }
 ],
 "metadata": {
  "kernelspec": {
   "display_name": "Python [conda env:env1]",
   "language": "python",
   "name": "conda-env-env1-py"
  },
  "language_info": {
   "codemirror_mode": {
    "name": "ipython",
    "version": 3
   },
   "file_extension": ".py",
   "mimetype": "text/x-python",
   "name": "python",
   "nbconvert_exporter": "python",
   "pygments_lexer": "ipython3",
   "version": "3.6.6"
  }
 },
 "nbformat": 4,
 "nbformat_minor": 2
}
